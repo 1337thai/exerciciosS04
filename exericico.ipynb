{
 "cells": [
  {
   "cell_type": "code",
   "execution_count": 4,
   "metadata": {},
   "outputs": [
    {
     "name": "stdout",
     "output_type": "stream",
     "text": [
      "a média dos números é: 73.09\n"
     ]
    }
   ],
   "source": [
    "numeros = [23, 9, 32, 43, 65, 453, 23, 65, 12, 75, 4]\n",
    "\n",
    "soma = 0 \n",
    "\n",
    "for num in numeros:\n",
    "    soma += num\n",
    "\n",
    "media = soma / len(numeros)\n",
    "\n",
    "print(f'a média dos números é: {media:.2f}')"
   ]
  },
  {
   "cell_type": "code",
   "execution_count": 10,
   "metadata": {},
   "outputs": [
    {
     "name": "stdout",
     "output_type": "stream",
     "text": [
      "Nenhuma coordenada esta na origem.\n",
      "Nenhuma coordenada esta na origem.\n",
      "Encontrou a coordanada na origem!\n"
     ]
    }
   ],
   "source": [
    "coordenadas = [(2,5),(34,3), (0,0),(3,4)]\n",
    "\n",
    "for coord in coordenadas:\n",
    "    if coord == (0,0):\n",
    "        print('Encontrou a coordanada na origem!')\n",
    "        break\n",
    "    else:\n",
    "        print('Nenhuma coordenada esta na origem.')"
   ]
  }
 ],
 "metadata": {
  "kernelspec": {
   "display_name": "Python 3",
   "language": "python",
   "name": "python3"
  },
  "language_info": {
   "codemirror_mode": {
    "name": "ipython",
    "version": 3
   },
   "file_extension": ".py",
   "mimetype": "text/x-python",
   "name": "python",
   "nbconvert_exporter": "python",
   "pygments_lexer": "ipython3",
   "version": "3.12.3"
  }
 },
 "nbformat": 4,
 "nbformat_minor": 2
}
