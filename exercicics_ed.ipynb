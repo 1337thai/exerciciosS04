{
 "cells": [
  {
   "cell_type": "code",
   "execution_count": 1,
   "metadata": {},
   "outputs": [
    {
     "name": "stdout",
     "output_type": "stream",
     "text": [
      "banana\n",
      "pao\n",
      "leite\n",
      "queijo\n",
      "vinho\n"
     ]
    }
   ],
   "source": [
    "lista_de_compras = ['banana', 'pao', 'leite', 'queijo', 'vinho']\n",
    "\n",
    "for item in lista_de_compras:\n",
    "    print(item)"
   ]
  },
  {
   "cell_type": "code",
   "execution_count": 5,
   "metadata": {},
   "outputs": [],
   "source": [
    "compras = [ {'camiseta': '2029', 'marca': 'zara'}]"
   ]
  },
  {
   "cell_type": "markdown",
   "metadata": {},
   "source": [
    "Exercício: Trabalhando com Tuplas\n",
    "Objetivo: Criar uma tupla com nomes de cores e imprimir cada cor."
   ]
  },
  {
   "cell_type": "code",
   "execution_count": 10,
   "metadata": {},
   "outputs": [
    {
     "name": "stdout",
     "output_type": "stream",
     "text": [
      "amarelo\n",
      "verde lesbica\n",
      "azul quente\n",
      "vermelho bissexual\n",
      "rosa choquei\n"
     ]
    }
   ],
   "source": [
    "cores = ('amarelo','verde lesbica','azul quente','vermelho bissexual','rosa choquei')\n",
    "for nomes in cores:\n",
    "    print(nomes)"
   ]
  },
  {
   "cell_type": "markdown",
   "metadata": {},
   "source": [
    "# Exercício 2: Trabalhando com Dicionários\n",
    "# Definindo um dicionário com informações sobre filmes"
   ]
  },
  {
   "cell_type": "code",
   "execution_count": 24,
   "metadata": {},
   "outputs": [
    {
     "name": "stdout",
     "output_type": "stream",
     "text": [
      "O filme hostel é do genero terror\n",
      "O filme x é do genero terror\n",
      "O filme get out é do genero terror\n",
      "O filme pearl é do genero terror\n"
     ]
    }
   ],
   "source": [
    "filmes = {'hostel' : 'terror',\n",
    "          'x' : 'terror',\n",
    "          'get out' : 'terror',\n",
    "          'pearl' : 'terror'\n",
    "          }\n",
    "\n",
    "for filme, genero in filmes.items():\n",
    "    print(f'O filme {filme} é do genero {genero}')"
   ]
  }
 ],
 "metadata": {
  "kernelspec": {
   "display_name": "Python 3",
   "language": "python",
   "name": "python3"
  },
  "language_info": {
   "codemirror_mode": {
    "name": "ipython",
    "version": 3
   },
   "file_extension": ".py",
   "mimetype": "text/x-python",
   "name": "python",
   "nbconvert_exporter": "python",
   "pygments_lexer": "ipython3",
   "version": "3.12.3"
  }
 },
 "nbformat": 4,
 "nbformat_minor": 2
}
