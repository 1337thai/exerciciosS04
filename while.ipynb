{
 "cells": [
  {
   "cell_type": "code",
   "execution_count": null,
   "metadata": {},
   "outputs": [],
   "source": [
    "balas = 0 \n",
    "\n",
    "while balas < 5:\n",
    "    print(f'eu tenho {balas} balas')\n",
    "    balas = balas + 1\n",
    "   \n",
    "    "
   ]
  },
  {
   "cell_type": "code",
   "execution_count": 5,
   "metadata": {},
   "outputs": [
    {
     "name": "stdout",
     "output_type": "stream",
     "text": [
      "Ainda não está cheio, tenho 0, litros de água no balde\n",
      "Ainda não está cheio, tenho 1, litros de água no balde\n",
      "Ainda não está cheio, tenho 2, litros de água no balde\n",
      "Ainda não está cheio, tenho 3, litros de água no balde\n",
      "Ainda não está cheio, tenho 4, litros de água no balde\n",
      "O balde esta cheio!\n"
     ]
    }
   ],
   "source": [
    "agua_no_balde = 0 \n",
    "balde_cheio = 5\n",
    "\n",
    "while agua_no_balde < balde_cheio:\n",
    "    print(f'Ainda não está cheio, tenho {agua_no_balde}, litros de água no balde')  \n",
    "    agua_no_balde += 1\n",
    "\n",
    "print('O balde esta cheio!')"
   ]
  },
  {
   "cell_type": "code",
   "execution_count": 53,
   "metadata": {},
   "outputs": [
    {
     "name": "stdout",
     "output_type": "stream",
     "text": [
      "5\n",
      "4\n",
      "3\n",
      "2\n",
      "1\n",
      "Contagem regressiva concluida\n"
     ]
    }
   ],
   "source": [
    "contador = 5\n",
    "\n",
    "while  contador > 0:\n",
    "    print(contador)\n",
    "    contador -= 1\n",
    "    \n",
    "print(f'Contagem regressiva concluida')"
   ]
  },
  {
   "cell_type": "markdown",
   "metadata": {},
   "source": [
    "Exercício 2: Tabuada de Multiplicação\n",
    "Neste exercício, o programa calcula e exibe a tabuada de multiplicação de um número escolhido pelo usuário."
   ]
  },
  {
   "cell_type": "code",
   "execution_count": 82,
   "metadata": {},
   "outputs": [
    {
     "name": "stdout",
     "output_type": "stream",
     "text": [
      "10\n",
      "20\n",
      "30\n",
      "40\n",
      "50\n",
      "60\n",
      "70\n",
      "80\n",
      "90\n",
      "100\n"
     ]
    }
   ],
   "source": [
    "numero = 10\n",
    "vez = 1\n",
    "\n",
    "while vez <= numero:\n",
    "    print(vez*numero)\n",
    "    vez = vez + 1\n",
    "    "
   ]
  },
  {
   "cell_type": "code",
   "execution_count": 22,
   "metadata": {},
   "outputs": [
    {
     "name": "stdout",
     "output_type": "stream",
     "text": [
      "4\n",
      "8\n",
      "12\n",
      "16\n",
      "20\n",
      "24\n",
      "28\n",
      "32\n",
      "36\n",
      "40\n"
     ]
    }
   ],
   "source": [
    "resp = int(input('Digite um numero: '))\n",
    "vez = 1\n",
    "\n",
    "while vez <= 10:\n",
    "    print(resp*vez)\n",
    "    vez += 1\n"
   ]
  }
 ],
 "metadata": {
  "kernelspec": {
   "display_name": "Python 3",
   "language": "python",
   "name": "python3"
  },
  "language_info": {
   "codemirror_mode": {
    "name": "ipython",
    "version": 3
   },
   "file_extension": ".py",
   "mimetype": "text/x-python",
   "name": "python",
   "nbconvert_exporter": "python",
   "pygments_lexer": "ipython3",
   "version": "3.12.3"
  }
 },
 "nbformat": 4,
 "nbformat_minor": 2
}
