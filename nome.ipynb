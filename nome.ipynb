{
 "cells": [
  {
   "cell_type": "code",
   "execution_count": 3,
   "metadata": {},
   "outputs": [
    {
     "name": "stdout",
     "output_type": "stream",
     "text": [
      "Nome 1: ana\n",
      "Nome 2: carlos\n",
      "Nome 3: felipe\n",
      "Nome 4: willow\n"
     ]
    }
   ],
   "source": [
    "nomes = ['ana','carlos','felipe','willow']\n",
    "\n",
    "for indice in range(len(nomes)):\n",
    "    print(f'Nome {indice + 1 }: {nomes[indice]}')"
   ]
  }
 ],
 "metadata": {
  "kernelspec": {
   "display_name": "Python 3",
   "language": "python",
   "name": "python3"
  },
  "language_info": {
   "codemirror_mode": {
    "name": "ipython",
    "version": 3
   },
   "file_extension": ".py",
   "mimetype": "text/x-python",
   "name": "python",
   "nbconvert_exporter": "python",
   "pygments_lexer": "ipython3",
   "version": "3.12.3"
  }
 },
 "nbformat": 4,
 "nbformat_minor": 2
}
